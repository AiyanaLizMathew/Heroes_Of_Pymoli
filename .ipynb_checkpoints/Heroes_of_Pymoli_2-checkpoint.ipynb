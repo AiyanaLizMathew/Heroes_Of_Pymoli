{
 "cells": [
  {
   "cell_type": "markdown",
   "metadata": {},
   "source": [
    "# Heroes Of Pymoli- File 2"
   ]
  },
  {
   "cell_type": "markdown",
   "metadata": {},
   "source": [
    "### Observation Trends\n",
    "#### Observation 1: The trends shows that more Male players has played the game than Females and other genders.\n",
    "#### Observation 2: The trends shows that this game was more popular in the Age Group 20-24.\n",
    "#### Observation 3: Also the most profitable item and most popular item are the same which is Mourning Blade.\n"
   ]
  },
  {
   "cell_type": "code",
   "execution_count": null,
   "metadata": {
    "collapsed": true
   },
   "outputs": [],
   "source": [
    "#Import Dependencies\n",
    "import pandas as pd\n",
    "import os"
   ]
  },
  {
   "cell_type": "markdown",
   "metadata": {},
   "source": [
    "### Reading the contents of the file"
   ]
  },
  {
   "cell_type": "code",
   "execution_count": null,
   "metadata": {
    "collapsed": true
   },
   "outputs": [],
   "source": [
    "#File path\n",
    "filepath1=os.path.join(\"Resources\",\"purchase_data2.json\")\n",
    "#Open and read the file\n",
    "Heroes_Pymoli_DF=pd.read_json(filepath1)\n"
   ]
  },
  {
   "cell_type": "markdown",
   "metadata": {},
   "source": [
    "## Player Count"
   ]
  },
  {
   "cell_type": "code",
   "execution_count": null,
   "metadata": {},
   "outputs": [],
   "source": [
    "#Find total number of players and store in a Data Frame\n",
    "Total_players_Df=pd.DataFrame({\"Total Players\": [len(Heroes_Pymoli_DF[\"SN\"].unique())]})\n",
    "Total_players_Df\n"
   ]
  },
  {
   "cell_type": "markdown",
   "metadata": {},
   "source": [
    "## Purchasing Analysis (Total)"
   ]
  },
  {
   "cell_type": "code",
   "execution_count": null,
   "metadata": {},
   "outputs": [],
   "source": [
    "#Purchasing Analysis\n",
    "\n",
    "#Calculating the values and storing to lists\n",
    "Unique_items=len(Heroes_Pymoli_DF[\"Item ID\"].unique())\n",
    "Avg_Purchase_Price=round(Heroes_Pymoli_DF[\"Price\"].mean(),2)\n",
    "No_of_Purchases=len(Heroes_Pymoli_DF[\"Price\"])\n",
    "Total_Revenue=round(Heroes_Pymoli_DF[\"Price\"].sum(),2)\n",
    "\n",
    "#Creating the Purchasing Analysis Dataframe\n",
    "Purchasing_Analysis_Df=pd.DataFrame({\"Number of Unique Items\":[Unique_items],\n",
    "                                     \"Average Price\":\"$\"+str(Avg_Purchase_Price),\n",
    "                                     \"Number of Purchases\":[No_of_Purchases],\n",
    "                                     \"Total Revenue\":\"$\"+str(Total_Revenue)})\n",
    "\n",
    "Purchasing_Analysis_Df\n"
   ]
  },
  {
   "cell_type": "markdown",
   "metadata": {},
   "source": [
    "## Gender Demographics"
   ]
  },
  {
   "cell_type": "code",
   "execution_count": null,
   "metadata": {},
   "outputs": [],
   "source": [
    "#Gender Demographics\n",
    "\n",
    "#Grouping based on gender and SN(username)\n",
    "Grouped_Gender_count=Heroes_Pymoli_DF.groupby([\"Gender\",\"SN\"],as_index=False).count()\n",
    "\n",
    "#Counting the Gender on the grouped data\n",
    "Gender_count=Grouped_Gender_count[\"Gender\"].value_counts()\n",
    "#Calculating the gender percentage\n",
    "Gender_percentage=Gender_count*100/Gender_count.sum()\n",
    "\n",
    "#Creating the Gender Demographics DataFrame\n",
    "Gender_Demographics_Df=pd.DataFrame({\"Percentage of Players\":Gender_percentage,\"Total count\":Gender_count})\n",
    "\n",
    "#Formatting the columns to the desired format\n",
    "Gender_Demographics_Df[\"Percentage of Players\"]=Gender_Demographics_Df[\"Percentage of Players\"].map(\"{:.2f}%\".format)\n",
    "\n",
    "Gender_Demographics_Df"
   ]
  },
  {
   "cell_type": "markdown",
   "metadata": {},
   "source": [
    "## Purchasing Analysis (Gender)"
   ]
  },
  {
   "cell_type": "code",
   "execution_count": null,
   "metadata": {},
   "outputs": [],
   "source": [
    "#Purchasing Analysis based on Gender\n",
    "\n",
    "Purchase_Count=Heroes_Pymoli_DF.groupby([\"Gender\"],as_index=False)[\"Price\"].count()\n",
    "Purchase_Count=Purchase_Count.rename(columns={\"Price\":\"Purchase Count\"})\n",
    "\n",
    "Average_Purchase_Price_G=Heroes_Pymoli_DF.groupby([\"Gender\"],as_index=False)[\"Price\"].mean()\n",
    "Average_Purchase_Price_G=Average_Purchase_Price_G.rename(columns={\"Price\":\"Average Purchase Price\"})\n",
    "\n",
    "Total_Purchase_Value=Heroes_Pymoli_DF.groupby([\"Gender\"],as_index=False)[\"Price\"].sum()\n",
    "Total_Purchase_Value=Total_Purchase_Value.rename(columns={\"Price\":\"Total Purchase Value\"})\n",
    "\n",
    "#Merging the three columns to a final dataframe\n",
    "Purchasing_Analysis_Gender_Df=pd.merge(Purchase_Count,Average_Purchase_Price_G,on=\"Gender\")\n",
    "Purchasing_Analysis_Gender_Df=Purchasing_Analysis_Gender_Df.merge(Total_Purchase_Value,on=\"Gender\")\n",
    "\n",
    "#Setting the index to Gender\n",
    "Purchasing_Analysis_Gender_Df.set_index(\"Gender\",inplace=True)\n",
    "#Creating a temporary dataframe joining Gender_Demographics_Df and Purchasing_Analysis_Gender_Df\n",
    "Temp_DF=Purchasing_Analysis_Gender_Df.join(Gender_Demographics_Df)\n",
    "\n",
    "#Inserting the fourth column to the final dataframe\n",
    "Purchasing_Analysis_Gender_Df[\"Normalized Totals\"]=round(Temp_DF[\"Total Purchase Value\"]/Temp_DF[\"Total count\"],2)\n",
    "\n",
    "#Deleting the temporary dataframe\n",
    "del Temp_DF\n",
    "\n",
    "#Formatting the columns\n",
    "Purchasing_Analysis_Gender_Df[\"Average Purchase Price\"]=Purchasing_Analysis_Gender_Df[\"Average Purchase Price\"].map(\"${:.2f}\".format)\n",
    "Purchasing_Analysis_Gender_Df[\"Total Purchase Value\"]=Purchasing_Analysis_Gender_Df[\"Total Purchase Value\"].map(\"${:.2f}\".format)\n",
    "Purchasing_Analysis_Gender_Df[\"Normalized Totals\"]=Purchasing_Analysis_Gender_Df[\"Normalized Totals\"].map(\"${:.2f}\".format)\n",
    "\n",
    "Purchasing_Analysis_Gender_Df\n"
   ]
  },
  {
   "cell_type": "markdown",
   "metadata": {},
   "source": [
    "## Age Demographics"
   ]
  },
  {
   "cell_type": "code",
   "execution_count": null,
   "metadata": {},
   "outputs": [],
   "source": [
    "#Age Demographics\n",
    "bins=[0,9,14,19,24,29,34,39,100]\n",
    "group_names=[\"< 10\",\"10-14\",\"15-19\",\"20-24\",\"25-29\",\"30-34\",\"35-39\",\"40+\"]\n",
    "\n",
    "#Cutting based on the bin values and appending a new column to Heroes_Pymoli_DF\n",
    "Heroes_Pymoli_DF[\"Age Group\"]=pd.cut(Heroes_Pymoli_DF[\"Age\"],bins,labels=group_names)\n",
    "\n",
    "#Grouping based on the Age group and SN(Single User)\n",
    "Age_Demographics=Heroes_Pymoli_DF.groupby([\"Age Group\",\"SN\"])[\"Age\"].count().to_frame()\n",
    "#Resetting the index so as to make only Age Group as Index and not SN\n",
    "Age_Demographics.reset_index(inplace=True)\n",
    "#Setting the index to Age Group and count how many users plays\n",
    "Age_Demographics=Age_Demographics.groupby([\"Age Group\"])[\"SN\"].count().to_frame()\n",
    "#Renaming the SN column as the Total count of player under that Age Group\n",
    "Age_Demographics=Age_Demographics.rename(columns={\"SN\":\"Total Count\"})\n",
    "\n",
    "#Calculating and adding the percentage of Players to the dataframe\n",
    "Age_Demographics[\"Percentage of Players\"]=(Age_Demographics[\"Total Count\"]/Age_Demographics[\"Total Count\"].sum())*100\n",
    "\n",
    "#Formatting the columns\n",
    "Age_Demographics[\"Percentage of Players\"]=Age_Demographics[\"Percentage of Players\"].map(\"{:.2f}%\".format)\n",
    "\n",
    "Age_Demographics\n"
   ]
  },
  {
   "cell_type": "markdown",
   "metadata": {},
   "source": [
    "## Purchasing Analysis (Age)"
   ]
  },
  {
   "cell_type": "code",
   "execution_count": null,
   "metadata": {},
   "outputs": [],
   "source": [
    "#Purchasing Analysis based on Age\n",
    "\n",
    "Purchase_Count_Age=Heroes_Pymoli_DF.groupby([\"Age Group\"],as_index=False)[\"Price\"].count()\n",
    "Purchase_Count_Age=Purchase_Count_Age.rename(columns={\"Price\":\"Purchase Count\"})\n",
    "\n",
    "Average_Purchase_Price_Age=Heroes_Pymoli_DF.groupby([\"Age Group\"],as_index=False)[\"Price\"].mean()\n",
    "Average_Purchase_Price_Age=Average_Purchase_Price_Age.rename(columns={\"Price\":\"Average Purchase Price\"})\n",
    "\n",
    "Total_Purchase_Value_Age=Heroes_Pymoli_DF.groupby([\"Age Group\"],as_index=False)[\"Price\"].sum()\n",
    "Total_Purchase_Value_Age=Total_Purchase_Value_Age.rename(columns={\"Price\":\"Total Purchase Value\"})\n",
    "\n",
    "#Merging the three columns to a final table\n",
    "Purchasing_Analysis_Age_Df=pd.merge(Purchase_Count_Age,Average_Purchase_Price_Age,on=\"Age Group\")\n",
    "Purchasing_Analysis_Age_Df=Purchasing_Analysis_Age_Df.merge(Total_Purchase_Value_Age,on=\"Age Group\")\n",
    "\n",
    "#Setting the index to Gender\n",
    "Purchasing_Analysis_Age_Df.set_index(\"Age Group\",inplace=True)\n",
    "#Creating a temporary dataframe joining Purchasing_Analysis_Age_Df and Age_Demographics\n",
    "Temp_DF=Purchasing_Analysis_Age_Df.join(Age_Demographics)\n",
    "#Inserting the fourth column to the final dataframe\n",
    "Purchasing_Analysis_Age_Df[\"Normalized Totals\"]=round(Temp_DF[\"Total Purchase Value\"]/Temp_DF[\"Total Count\"],2)\n",
    "\n",
    "#Deleting the temporary dataframe\n",
    "del Temp_DF\n",
    "\n",
    "#Formatting the columns\n",
    "Purchasing_Analysis_Age_Df[\"Average Purchase Price\"]=Purchasing_Analysis_Age_Df[\"Average Purchase Price\"].map(\"${:.2f}\".format)\n",
    "Purchasing_Analysis_Age_Df[\"Total Purchase Value\"]=Purchasing_Analysis_Age_Df[\"Total Purchase Value\"].map(\"${:.2f}\".format)\n",
    "Purchasing_Analysis_Age_Df[\"Normalized Totals\"]=Purchasing_Analysis_Age_Df[\"Normalized Totals\"].map(\"${:.2f}\".format)\n",
    "\n",
    "Purchasing_Analysis_Age_Df"
   ]
  },
  {
   "cell_type": "markdown",
   "metadata": {},
   "source": [
    "## Top Spenders"
   ]
  },
  {
   "cell_type": "code",
   "execution_count": null,
   "metadata": {},
   "outputs": [],
   "source": [
    "#Top Spenders\n",
    "\n",
    "#Grouping based on users\n",
    "Top_Spenders=Heroes_Pymoli_DF.groupby(Heroes_Pymoli_DF[\"SN\"], as_index = False)\n",
    "\n",
    "Purchase_Counts_Top=Top_Spenders[\"Price\"].count().reset_index(drop=True)\n",
    "Purchase_Counts_Top=Purchase_Counts_Top.rename(columns={\"Price\":\"Purchase Count\"})\n",
    "\n",
    "Total_Purchase_Value_Top=Top_Spenders[\"Price\"].sum().sort_values(\"Price\",ascending=False).head().reset_index(drop=True)\n",
    "Total_Purchase_Value_Top=Total_Purchase_Value_Top.rename(columns={\"Price\":\"Total Purchase Value\"})\n",
    "\n",
    "#Merging the two columns to a final dataframe\n",
    "Top_5_Spenders_DF=Total_Purchase_Value_Top.merge(Purchase_Counts_Top,on=\"SN\",how=\"left\")\n",
    "\n",
    "#Inserting the third column to the final dataframe\n",
    "Top_5_Spenders_DF[\"Average Purchase Price\"]=(Top_5_Spenders_DF[\"Total Purchase Value\"]/Top_5_Spenders_DF[\"Purchase Count\"]).map(\"${:.2f}\".format)\n",
    "\n",
    "#Formatting the columns to desired format\n",
    "Top_5_Spenders_DF[\"Total Purchase Value\"]=Top_5_Spenders_DF[\"Total Purchase Value\"].map(\"${:.2f}\".format)\n",
    "#Setting the index of final dataframe\n",
    "Top_5_Spenders_DF.set_index(\"SN\",inplace=True)\n",
    "#Re-arranging the columns of final dataframe\n",
    "Top_5_Spenders_DF=Top_5_Spenders_DF[[\"Purchase Count\",\"Average Purchase Price\",\"Total Purchase Value\"]]\n",
    "\n",
    "Top_5_Spenders_DF\n"
   ]
  },
  {
   "cell_type": "markdown",
   "metadata": {},
   "source": [
    "## Most Popular Items"
   ]
  },
  {
   "cell_type": "code",
   "execution_count": null,
   "metadata": {},
   "outputs": [],
   "source": [
    "#Most Popular Items\n",
    "#Grouping based on Item ID and Item Name\n",
    "Most_Popular_Item=Heroes_Pymoli_DF.groupby([\"Item ID\",\"Item Name\"], as_index = False)\n",
    "\n",
    "#Finding the most popular item from the grouped dataframe by sorting the count of purchased items in the descending order and retturning the first 5 rows\n",
    "Most_Popular_Item_DF=Most_Popular_Item[\"Price\"].count().sort_values(\"Price\",ascending=False).head().reset_index(drop=True)\n",
    "Most_Popular_Item_DF=Most_Popular_Item_DF.rename(columns={\"Price\":\"Purchase Count\"})\n",
    "\n",
    "Item_Price=Most_Popular_Item[\"Price\"].mean()\n",
    "\n",
    "#Merging the two columns to a final dataframe\n",
    "Most_Popular_Item_DF=Most_Popular_Item_DF.merge(Item_Price,on=[\"Item ID\",\"Item Name\"],how=\"left\")\n",
    "\n",
    "Most_Popular_Item_DF=Most_Popular_Item_DF.rename(columns={\"Price\":\"Item Price\"})\n",
    "Most_Popular_Item_DF[\"Total Purchase Value\"]=Most_Popular_Item_DF[\"Purchase Count\"]*Most_Popular_Item_DF[\"Item Price\"]\n",
    "\n",
    "#Setting the index of final dataframe\n",
    "Most_Popular_Item_DF.set_index([\"Item ID\",\"Item Name\"],inplace=True)\n",
    "#Formatting the columns to desired format\n",
    "Most_Popular_Item_DF[\"Item Price\"]=Most_Popular_Item_DF[\"Item Price\"].map(\"${:.2f}\".format)\n",
    "Most_Popular_Item_DF[\"Total Purchase Value\"]=Most_Popular_Item_DF[\"Total Purchase Value\"].map(\"${:.2f}\".format)\n",
    "\n",
    "Most_Popular_Item_DF\n"
   ]
  },
  {
   "cell_type": "markdown",
   "metadata": {},
   "source": [
    "## Most Profitable Items"
   ]
  },
  {
   "cell_type": "code",
   "execution_count": null,
   "metadata": {},
   "outputs": [],
   "source": [
    "#Most Profitable Item\n",
    "#Grouping based on Item ID and Item Name\n",
    "Most_Profitable_Item=Heroes_Pymoli_DF.groupby([\"Item ID\",\"Item Name\"], as_index = False)\n",
    "\n",
    "#Finding the most profitable item from the grouped dataframe by sorting in the sum of Price in the descending order and returning the first 5 rows\n",
    "Most_Profitable_Item_DF=Most_Profitable_Item[\"Price\"].sum().sort_values(\"Price\",ascending=False).head().reset_index(drop=True)\n",
    "\n",
    "Item_Price=Most_Profitable_Item[\"Price\"].mean()\n",
    "\n",
    "#Merging the two columns to a final dataframe\n",
    "Most_Profitable_Item_DF=Most_Profitable_Item_DF.merge(Item_Price,on=[\"Item ID\",\"Item Name\"],how=\"left\")\n",
    "\n",
    "Purchase_Count=Most_Profitable_Item[\"Price\"].count()\n",
    "Most_Profitable_Item_DF=Most_Profitable_Item_DF.merge(Purchase_Count,on=[\"Item ID\",\"Item Name\"],how=\"left\")\n",
    "\n",
    "\n",
    "#Setting the index of final dataframe\n",
    "Most_Profitable_Item_DF.set_index([\"Item ID\",\"Item Name\"],inplace=True)\n",
    "#Renaming and Formatting the columns to desired format\n",
    "Most_Profitable_Item_DF=Most_Profitable_Item_DF.rename(columns={\"Price_x\":\"Total Purchase Value\",\n",
    "                                                                \"Price_y\":\"Item Price\",\n",
    "                                                                \"Price\":\"Purchase Count\"})\n",
    "Most_Profitable_Item_DF[\"Item Price\"]=Most_Profitable_Item_DF[\"Item Price\"].map(\"${:.2f}\".format)\n",
    "Most_Profitable_Item_DF[\"Total Purchase Value\"]=Most_Profitable_Item_DF[\"Total Purchase Value\"].map(\"${:.2f}\".format)\n",
    "#Re-arranging the columns in  the data frame\n",
    "Most_Profitable_Item_DF=Most_Profitable_Item_DF[[\"Purchase Count\",\"Item Price\",\"Total Purchase Value\"]]\n",
    "\n",
    "Most_Profitable_Item_DF\n"
   ]
  }
 ],
 "metadata": {
  "kernelspec": {
   "display_name": "Python 3",
   "language": "python",
   "name": "python3"
  },
  "language_info": {
   "codemirror_mode": {
    "name": "ipython",
    "version": 3
   },
   "file_extension": ".py",
   "mimetype": "text/x-python",
   "name": "python",
   "nbconvert_exporter": "python",
   "pygments_lexer": "ipython3",
   "version": "3.6.3"
  }
 },
 "nbformat": 4,
 "nbformat_minor": 2
}
